{
 "cells": [
  {
   "cell_type": "code",
   "execution_count": 178,
   "metadata": {},
   "outputs": [],
   "source": [
    "import pandas as pd\n",
    "from tqdm import tqdm\n",
    "import glob\n",
    "import re\n",
    "tqdm.pandas()"
   ]
  },
  {
   "cell_type": "code",
   "execution_count": 179,
   "metadata": {},
   "outputs": [],
   "source": [
    "df = pd.read_csv(\"train.csv\")"
   ]
  },
  {
   "cell_type": "code",
   "execution_count": 180,
   "metadata": {},
   "outputs": [],
   "source": [
    "\n",
    "def make_data(df):\n",
    "    x={\"id\":[],\"text\":[],\"discourse_area\":[],\"discourse_text\":[],\"discourse_type\":[]}\n",
    "    \n",
    "    t=-1\n",
    "    for a,b,c,d,e in zip(tqdm(df[\"id\"]),df[\"discourse_start\"],df[\"discourse_end\"],df[\"discourse_text\"],df[\"discourse_type\"]):\n",
    "        if a not in x[\"id\"]:\n",
    "            f = open(f\"train/{a}.txt\", 'r')\n",
    "            sentence = f.read()\n",
    "            if bool(re.search(r\"\\.\\s\",sentence)):\n",
    "                t+=1\n",
    "                x[\"id\"].append(a)\n",
    "                x[\"text\"].append(sentence)\n",
    "                x[\"discourse_area\"].append([[b,c]])\n",
    "                x[\"discourse_text\"].append([d])\n",
    "                x[\"discourse_type\"].append([e])\n",
    "        else:\n",
    "            x[\"discourse_area\"][t].append([b,c])\n",
    "            x[\"discourse_text\"][t].append(d)\n",
    "            x[\"discourse_type\"][t].append(e)\n",
    "    return x"
   ]
  },
  {
   "cell_type": "code",
   "execution_count": 181,
   "metadata": {},
   "outputs": [
    {
     "name": "stderr",
     "output_type": "stream",
     "text": [
      "100%|██████████| 144293/144293 [00:18<00:00, 7768.04it/s]\n"
     ]
    }
   ],
   "source": [
    "x=make_data(df)"
   ]
  },
  {
   "cell_type": "code",
   "execution_count": 182,
   "metadata": {},
   "outputs": [],
   "source": [
    "df=pd.DataFrame(x)"
   ]
  },
  {
   "cell_type": "code",
   "execution_count": 183,
   "metadata": {},
   "outputs": [],
   "source": [
    "def split_data(df):\n",
    "    x={\"id\":[],\"text\":[],\"discourse_text\":[],\"discourse_type\":[]}\n",
    "    t=-1\n",
    "    for  id_, text_, discourse_areas, discourse_texts, discourse_types in zip(tqdm(df[\"id\"]),df[\"text\"],df[\"discourse_area\"],df[\"discourse_text\"],df[\"discourse_type\"]):\n",
    "        for  discourse_area, discourse_text, discourse_type in zip(discourse_areas, discourse_texts, discourse_types):\n",
    "            discourse_area=list(map(int, discourse_area))\n",
    "            if id_ not in x[\"id\"]:\n",
    "                t+=1\n",
    "                x[\"id\"].append(id_)\n",
    "                x[\"text\"].append(text_)\n",
    "                x[\"discourse_text\"].append([text_[discourse_area[0]:discourse_area[1]]])\n",
    "                x[\"discourse_type\"].append([discourse_type])\n",
    "                pre_text_index = discourse_area[1]\n",
    "            else:\n",
    "                if pre_text_index!=discourse_area[0]:\n",
    "                    x[\"discourse_text\"][t].append(text_[pre_text_index:discourse_area[0]])\n",
    "                    x[\"discourse_type\"][t].append(\"Nothing\")\n",
    "                x[\"discourse_text\"][t].append(text_[discourse_area[0]:discourse_area[1]])\n",
    "                x[\"discourse_type\"][t].append(discourse_type)\n",
    "                pre_text_index = discourse_area[1]\n",
    "    return x"
   ]
  },
  {
   "cell_type": "code",
   "execution_count": 262,
   "metadata": {},
   "outputs": [
    {
     "name": "stderr",
     "output_type": "stream",
     "text": [
      "100%|██████████| 15575/15575 [00:14<00:00, 1040.49it/s]\n"
     ]
    }
   ],
   "source": [
    "df_o=pd.DataFrame(split_data(df))"
   ]
  },
  {
   "cell_type": "code",
   "execution_count": 261,
   "metadata": {},
   "outputs": [],
   "source": [
    "def preprocess(text):\n",
    "    text = re.sub(\"https?://[\\w!\\?/\\+\\-_~=;\\.,\\*&@#\\$%\\(\\)'\\[\\]]+\", ' ', text)\n",
    "    text = re.sub('\\(.*?\\)',' ',text)\n",
    "    text = re.sub('\\s',' ',text)\n",
    "    pattern = re.compile(r\"(\\d+),(\\d+)\")\n",
    "    text = pattern.sub(r'\\1\\2',text)\n",
    "    text = re.sub(\"’\",\"'\",text)\n",
    "    text = re.sub(r\"[^A-z0-9.,?!/&%$']\",' ',text)\n",
    "    text = re.sub(\",\",' , ',text)\n",
    "    text = re.sub(\"!\",'. ',text)\n",
    "    text = re.sub(\"\\s+\",' ',text)\n",
    "    x=text.split(\".\")\n",
    "    y=[]\n",
    "    for i,j in enumerate(x):\n",
    "        if (bool(re.search(\"\\s\",j)) and len(j)>=4) or (i==0) or (j==\"\") or (j==\" \"):\n",
    "            y.append(j)\n",
    "        else:\n",
    "            y[-1]+=j\n",
    "    text = \".\".join(y)\n",
    "    pattern = re.compile(r\"\\.\\s*([A-Z])\")\n",
    "    text = pattern.sub(r'. \\1',text)\n",
    "    pattern = re.compile(r\"\\?\\s*([A-Z])\")\n",
    "    text = pattern.sub(r'? \\1',text)\n",
    "    text = re.sub(r\"[\\s]*\\.[\\.\\s]+\",\". \",text)\n",
    "    text = re.sub(\"' \",\"'\",text)\n",
    "    text = re.sub(\" ,\\s*\",\", \",text)\n",
    "    text = re.sub(\" \\.\",\". \",text)\n",
    "    text = text.lower()\n",
    "    if len(text)>0:\n",
    "        if text[-1]==\".\":\n",
    "            text+=\" \"\n",
    "    return text\n",
    "\n",
    "def all_preprocess(text):\n",
    "    if type(text)==str:\n",
    "        return preprocess(text)\n",
    "    \n",
    "    else:\n",
    "        return [preprocess(i) for i in text]"
   ]
  },
  {
   "cell_type": "code",
   "execution_count": 263,
   "metadata": {},
   "outputs": [
    {
     "name": "stderr",
     "output_type": "stream",
     "text": [
      "100%|██████████| 15575/15575 [00:10<00:00, 1493.83it/s]\n"
     ]
    }
   ],
   "source": [
    "df_o[\"discourse_text\"]=df_o[\"discourse_text\"].progress_map(lambda x: all_preprocess(x))"
   ]
  },
  {
   "cell_type": "code",
   "execution_count": 269,
   "metadata": {},
   "outputs": [
    {
     "data": {
      "text/html": [
       "<div>\n",
       "<style scoped>\n",
       "    .dataframe tbody tr th:only-of-type {\n",
       "        vertical-align: middle;\n",
       "    }\n",
       "\n",
       "    .dataframe tbody tr th {\n",
       "        vertical-align: top;\n",
       "    }\n",
       "\n",
       "    .dataframe thead th {\n",
       "        text-align: right;\n",
       "    }\n",
       "</style>\n",
       "<table border=\"1\" class=\"dataframe\">\n",
       "  <thead>\n",
       "    <tr style=\"text-align: right;\">\n",
       "      <th></th>\n",
       "      <th>id</th>\n",
       "      <th>text</th>\n",
       "      <th>discourse_text</th>\n",
       "      <th>discourse_type</th>\n",
       "    </tr>\n",
       "  </thead>\n",
       "  <tbody>\n",
       "    <tr>\n",
       "      <th>0</th>\n",
       "      <td>423A1CA112E2</td>\n",
       "      <td>Phones\\n\\nModern humans today are always on th...</td>\n",
       "      <td>[modern humans today are always on their phone...</td>\n",
       "      <td>[Lead, Nothing, Position, Nothing, Evidence, N...</td>\n",
       "    </tr>\n",
       "    <tr>\n",
       "      <th>1</th>\n",
       "      <td>A8445CABFECE</td>\n",
       "      <td>Phones &amp; Driving\\n\\nDrivers should not be able...</td>\n",
       "      <td>[drivers should not be able to use phones whil...</td>\n",
       "      <td>[Position, Nothing, Claim, Nothing, Evidence, ...</td>\n",
       "    </tr>\n",
       "    <tr>\n",
       "      <th>2</th>\n",
       "      <td>6B4F7A0165B9</td>\n",
       "      <td>Cell Phone Operation While Driving\\n\\nThe abil...</td>\n",
       "      <td>[the ability to stay connected to people we kn...</td>\n",
       "      <td>[Lead, Nothing, Position, Nothing, Claim, Noth...</td>\n",
       "    </tr>\n",
       "    <tr>\n",
       "      <th>3</th>\n",
       "      <td>E05C7F5C1156</td>\n",
       "      <td>People are debating whether if drivers should ...</td>\n",
       "      <td>[people are debating whether if drivers should...</td>\n",
       "      <td>[Lead, Position, Nothing, Claim, Nothing, Clai...</td>\n",
       "    </tr>\n",
       "    <tr>\n",
       "      <th>4</th>\n",
       "      <td>50B3435E475B</td>\n",
       "      <td>Texting and driving\\n\\nOver half of drivers in...</td>\n",
       "      <td>[over half of drivers in today's society have ...</td>\n",
       "      <td>[Lead, Nothing, Position, Nothing, Claim, Noth...</td>\n",
       "    </tr>\n",
       "    <tr>\n",
       "      <th>...</th>\n",
       "      <td>...</td>\n",
       "      <td>...</td>\n",
       "      <td>...</td>\n",
       "      <td>...</td>\n",
       "    </tr>\n",
       "    <tr>\n",
       "      <th>15570</th>\n",
       "      <td>8F4B595CF9E7</td>\n",
       "      <td>Do you ever want more opinions and options whe...</td>\n",
       "      <td>[do you ever want more opinions and options wh...</td>\n",
       "      <td>[Lead, Position, Nothing, Claim, Nothing, Clai...</td>\n",
       "    </tr>\n",
       "    <tr>\n",
       "      <th>15571</th>\n",
       "      <td>6B5809C83978</td>\n",
       "      <td>Has anyone ever gave you advice? Was the advic...</td>\n",
       "      <td>[has anyone ever gave you advice? was the advi...</td>\n",
       "      <td>[Lead, Position, Nothing, Claim, Claim, Nothin...</td>\n",
       "    </tr>\n",
       "    <tr>\n",
       "      <th>15572</th>\n",
       "      <td>408A7D3D2EEC</td>\n",
       "      <td>Imagine seeking advice from multiple people an...</td>\n",
       "      <td>[imagine seeking advice from multiple people a...</td>\n",
       "      <td>[Lead, Nothing, Position, Nothing, Claim, Noth...</td>\n",
       "    </tr>\n",
       "    <tr>\n",
       "      <th>15573</th>\n",
       "      <td>AFEC37C2D43F</td>\n",
       "      <td>There has been at least one point in everyone'...</td>\n",
       "      <td>[there has been at least one point in everyone...</td>\n",
       "      <td>[Lead, Nothing, Position, Nothing, Claim, Noth...</td>\n",
       "    </tr>\n",
       "    <tr>\n",
       "      <th>15574</th>\n",
       "      <td>4C471936CD75</td>\n",
       "      <td>In ancient times, and also still today in some...</td>\n",
       "      <td>[in ancient times, and also still today in som...</td>\n",
       "      <td>[Lead, Nothing, Claim, Nothing, Claim, Nothing...</td>\n",
       "    </tr>\n",
       "  </tbody>\n",
       "</table>\n",
       "<p>15575 rows × 4 columns</p>\n",
       "</div>"
      ],
      "text/plain": [
       "                 id                                               text  \\\n",
       "0      423A1CA112E2  Phones\\n\\nModern humans today are always on th...   \n",
       "1      A8445CABFECE  Phones & Driving\\n\\nDrivers should not be able...   \n",
       "2      6B4F7A0165B9  Cell Phone Operation While Driving\\n\\nThe abil...   \n",
       "3      E05C7F5C1156  People are debating whether if drivers should ...   \n",
       "4      50B3435E475B  Texting and driving\\n\\nOver half of drivers in...   \n",
       "...             ...                                                ...   \n",
       "15570  8F4B595CF9E7  Do you ever want more opinions and options whe...   \n",
       "15571  6B5809C83978  Has anyone ever gave you advice? Was the advic...   \n",
       "15572  408A7D3D2EEC  Imagine seeking advice from multiple people an...   \n",
       "15573  AFEC37C2D43F  There has been at least one point in everyone'...   \n",
       "15574  4C471936CD75  In ancient times, and also still today in some...   \n",
       "\n",
       "                                          discourse_text  \\\n",
       "0      [modern humans today are always on their phone...   \n",
       "1      [drivers should not be able to use phones whil...   \n",
       "2      [the ability to stay connected to people we kn...   \n",
       "3      [people are debating whether if drivers should...   \n",
       "4      [over half of drivers in today's society have ...   \n",
       "...                                                  ...   \n",
       "15570  [do you ever want more opinions and options wh...   \n",
       "15571  [has anyone ever gave you advice? was the advi...   \n",
       "15572  [imagine seeking advice from multiple people a...   \n",
       "15573  [there has been at least one point in everyone...   \n",
       "15574  [in ancient times, and also still today in som...   \n",
       "\n",
       "                                          discourse_type  \n",
       "0      [Lead, Nothing, Position, Nothing, Evidence, N...  \n",
       "1      [Position, Nothing, Claim, Nothing, Evidence, ...  \n",
       "2      [Lead, Nothing, Position, Nothing, Claim, Noth...  \n",
       "3      [Lead, Position, Nothing, Claim, Nothing, Clai...  \n",
       "4      [Lead, Nothing, Position, Nothing, Claim, Noth...  \n",
       "...                                                  ...  \n",
       "15570  [Lead, Position, Nothing, Claim, Nothing, Clai...  \n",
       "15571  [Lead, Position, Nothing, Claim, Claim, Nothin...  \n",
       "15572  [Lead, Nothing, Position, Nothing, Claim, Noth...  \n",
       "15573  [Lead, Nothing, Position, Nothing, Claim, Noth...  \n",
       "15574  [Lead, Nothing, Claim, Nothing, Claim, Nothing...  \n",
       "\n",
       "[15575 rows x 4 columns]"
      ]
     },
     "execution_count": 269,
     "metadata": {},
     "output_type": "execute_result"
    }
   ],
   "source": [
    "df_o"
   ]
  },
  {
   "cell_type": "code",
   "execution_count": 278,
   "metadata": {},
   "outputs": [],
   "source": [
    "def delete_muda(df):\n",
    "    x={\"id\":[], \"discourse_text\":[],\"discourse_type\":[]}\n",
    "    t=-1\n",
    "    for id_,text,type in zip(tqdm(df[\"id\"]),df[\"discourse_text\"],df[\"discourse_type\"]):\n",
    "        for i,j in zip(text,type):\n",
    "            if id_ not in x[\"id\"]:\n",
    "                t+=1\n",
    "                x[\"id\"].append(id_)\n",
    "                x[\"discourse_text\"].append([i])\n",
    "                x[\"discourse_type\"].append([j])\n",
    "            else:\n",
    "                if bool(re.search(r\"[^.?\\s]\",i)):\n",
    "                    x[\"discourse_text\"][t].append(i)\n",
    "                    x[\"discourse_type\"][t].append(j)    \n",
    "                else:\n",
    "                    x[\"discourse_text\"][t][-1]+=i\n",
    "    return x"
   ]
  },
  {
   "cell_type": "code",
   "execution_count": 282,
   "metadata": {},
   "outputs": [
    {
     "name": "stderr",
     "output_type": "stream",
     "text": [
      "100%|██████████| 15575/15575 [00:26<00:00, 586.56it/s]\n"
     ]
    }
   ],
   "source": [
    "df_o=pd.DataFrame(delete_muda(df_o))"
   ]
  },
  {
   "cell_type": "code",
   "execution_count": 283,
   "metadata": {},
   "outputs": [
    {
     "data": {
      "text/html": [
       "<div>\n",
       "<style scoped>\n",
       "    .dataframe tbody tr th:only-of-type {\n",
       "        vertical-align: middle;\n",
       "    }\n",
       "\n",
       "    .dataframe tbody tr th {\n",
       "        vertical-align: top;\n",
       "    }\n",
       "\n",
       "    .dataframe thead th {\n",
       "        text-align: right;\n",
       "    }\n",
       "</style>\n",
       "<table border=\"1\" class=\"dataframe\">\n",
       "  <thead>\n",
       "    <tr style=\"text-align: right;\">\n",
       "      <th></th>\n",
       "      <th>id</th>\n",
       "      <th>discourse_text</th>\n",
       "      <th>discourse_type</th>\n",
       "    </tr>\n",
       "  </thead>\n",
       "  <tbody>\n",
       "    <tr>\n",
       "      <th>0</th>\n",
       "      <td>423A1CA112E2</td>\n",
       "      <td>[modern humans today are always on their phone...</td>\n",
       "      <td>[Lead, Position, Evidence, Evidence, Claim, Ev...</td>\n",
       "    </tr>\n",
       "    <tr>\n",
       "      <th>1</th>\n",
       "      <td>A8445CABFECE</td>\n",
       "      <td>[drivers should not be able to use phones whil...</td>\n",
       "      <td>[Position, Claim, Evidence, Concluding Statement]</td>\n",
       "    </tr>\n",
       "    <tr>\n",
       "      <th>2</th>\n",
       "      <td>6B4F7A0165B9</td>\n",
       "      <td>[the ability to stay connected to people we kn...</td>\n",
       "      <td>[Lead, Position, Claim, Evidence, Counterclaim...</td>\n",
       "    </tr>\n",
       "    <tr>\n",
       "      <th>3</th>\n",
       "      <td>E05C7F5C1156</td>\n",
       "      <td>[people are debating whether if drivers should...</td>\n",
       "      <td>[Lead, Position, Claim, Claim, Claim, Nothing,...</td>\n",
       "    </tr>\n",
       "    <tr>\n",
       "      <th>4</th>\n",
       "      <td>50B3435E475B</td>\n",
       "      <td>[over half of drivers in today's society have ...</td>\n",
       "      <td>[Lead, Position, Claim, Evidence, Claim, Evide...</td>\n",
       "    </tr>\n",
       "    <tr>\n",
       "      <th>...</th>\n",
       "      <td>...</td>\n",
       "      <td>...</td>\n",
       "      <td>...</td>\n",
       "    </tr>\n",
       "    <tr>\n",
       "      <th>15570</th>\n",
       "      <td>8F4B595CF9E7</td>\n",
       "      <td>[do you ever want more opinions and options wh...</td>\n",
       "      <td>[Lead, Position, Nothing, Claim, Claim, Nothin...</td>\n",
       "    </tr>\n",
       "    <tr>\n",
       "      <th>15571</th>\n",
       "      <td>6B5809C83978</td>\n",
       "      <td>[has anyone ever gave you advice? was the advi...</td>\n",
       "      <td>[Lead, Position, Nothing, Claim, Claim, Nothin...</td>\n",
       "    </tr>\n",
       "    <tr>\n",
       "      <th>15572</th>\n",
       "      <td>408A7D3D2EEC</td>\n",
       "      <td>[imagine seeking advice from multiple people a...</td>\n",
       "      <td>[Lead, Position, Nothing, Claim, Claim, Nothin...</td>\n",
       "    </tr>\n",
       "    <tr>\n",
       "      <th>15573</th>\n",
       "      <td>AFEC37C2D43F</td>\n",
       "      <td>[there has been at least one point in everyone...</td>\n",
       "      <td>[Lead, Position, Nothing, Claim, Claim, Nothin...</td>\n",
       "    </tr>\n",
       "    <tr>\n",
       "      <th>15574</th>\n",
       "      <td>4C471936CD75</td>\n",
       "      <td>[in ancient times, and also still today in som...</td>\n",
       "      <td>[Lead, Nothing, Claim, Nothing, Claim, Nothing...</td>\n",
       "    </tr>\n",
       "  </tbody>\n",
       "</table>\n",
       "<p>15575 rows × 3 columns</p>\n",
       "</div>"
      ],
      "text/plain": [
       "                 id                                     discourse_text  \\\n",
       "0      423A1CA112E2  [modern humans today are always on their phone...   \n",
       "1      A8445CABFECE  [drivers should not be able to use phones whil...   \n",
       "2      6B4F7A0165B9  [the ability to stay connected to people we kn...   \n",
       "3      E05C7F5C1156  [people are debating whether if drivers should...   \n",
       "4      50B3435E475B  [over half of drivers in today's society have ...   \n",
       "...             ...                                                ...   \n",
       "15570  8F4B595CF9E7  [do you ever want more opinions and options wh...   \n",
       "15571  6B5809C83978  [has anyone ever gave you advice? was the advi...   \n",
       "15572  408A7D3D2EEC  [imagine seeking advice from multiple people a...   \n",
       "15573  AFEC37C2D43F  [there has been at least one point in everyone...   \n",
       "15574  4C471936CD75  [in ancient times, and also still today in som...   \n",
       "\n",
       "                                          discourse_type  \n",
       "0      [Lead, Position, Evidence, Evidence, Claim, Ev...  \n",
       "1      [Position, Claim, Evidence, Concluding Statement]  \n",
       "2      [Lead, Position, Claim, Evidence, Counterclaim...  \n",
       "3      [Lead, Position, Claim, Claim, Claim, Nothing,...  \n",
       "4      [Lead, Position, Claim, Evidence, Claim, Evide...  \n",
       "...                                                  ...  \n",
       "15570  [Lead, Position, Nothing, Claim, Claim, Nothin...  \n",
       "15571  [Lead, Position, Nothing, Claim, Claim, Nothin...  \n",
       "15572  [Lead, Position, Nothing, Claim, Claim, Nothin...  \n",
       "15573  [Lead, Position, Nothing, Claim, Claim, Nothin...  \n",
       "15574  [Lead, Nothing, Claim, Nothing, Claim, Nothing...  \n",
       "\n",
       "[15575 rows x 3 columns]"
      ]
     },
     "execution_count": 283,
     "metadata": {},
     "output_type": "execute_result"
    }
   ],
   "source": [
    "df_o"
   ]
  },
  {
   "cell_type": "code",
   "execution_count": 284,
   "metadata": {},
   "outputs": [
    {
     "name": "stderr",
     "output_type": "stream",
     "text": [
      "100%|██████████| 15575/15575 [00:02<00:00, 6447.28it/s]\n"
     ]
    }
   ],
   "source": [
    "def space_period_delete(text):\n",
    "    text = re.sub(\"\\s+\",\" \",text)\n",
    "    text = re.sub(\"\\s\\.\",\".\",text)\n",
    "    if text[-1]==\".\":\n",
    "        text+=\" \"\n",
    "    return text\n",
    "        \n",
    "df_o[\"discourse_text\"]=df_o[\"discourse_text\"].progress_map(lambda x: [space_period_delete(i) for i in x])"
   ]
  },
  {
   "cell_type": "code",
   "execution_count": 296,
   "metadata": {},
   "outputs": [],
   "source": [
    "def split_data_label(df):\n",
    "    x={\"id\":[],\"discourse_text\":[],\"discourse_type\":[]}\n",
    "    t=-1\n",
    "    for id_,text,type in zip(tqdm(df[\"id\"]),df[\"discourse_text\"],df[\"discourse_type\"]):\n",
    "        for i,j in zip(text,type):\n",
    "            sprit_text = re.split(\"(?<=\\. )|(?<=\\? )\",i)\n",
    "            \n",
    "            if id_ not in x[\"id\"]:\n",
    "                t+=1\n",
    "                x[\"id\"].append(id_)\n",
    "                x[\"discourse_text\"].append([])\n",
    "                x[\"discourse_type\"].append([])\n",
    "                \n",
    "                for k in sprit_text:\n",
    "                    if len(k)!=0:\n",
    "                        x[\"discourse_text\"][t].append(k)\n",
    "                        x[\"discourse_type\"][t].append([j])\n",
    "            else:\n",
    "                for k in sprit_text:\n",
    "                    if not end_period:\n",
    "                        end_period=True\n",
    "                        x[\"discourse_text\"][t][-1]+=k\n",
    "                        x[\"discourse_type\"][t][-1].append(j)\n",
    "                    else:\n",
    "                        if len(k)!=0:\n",
    "                            x[\"discourse_text\"][t].append(k)\n",
    "                            x[\"discourse_type\"][t].append([j])\n",
    "            if sprit_text[-1]==\"\":\n",
    "                end_period=True\n",
    "            else:\n",
    "                end_period=False\n",
    "    return x\n",
    "    "
   ]
  },
  {
   "cell_type": "code",
   "execution_count": 297,
   "metadata": {},
   "outputs": [
    {
     "name": "stderr",
     "output_type": "stream",
     "text": [
      "100%|██████████| 15575/15575 [00:18<00:00, 823.20it/s]\n"
     ]
    },
    {
     "data": {
      "text/plain": [
       "['people are debating whether if drivers should or should not use cell phones while operating a vehicle. ',\n",
       " \"some people think that using a cell phone while operating a vehicle should be allowed because they try multi tasking and have important calls while some are addicted and can't stay off their phone. \",\n",
       " \"other people says that you shouldn't be able to be on your cell phone while operating a vehicle because the cell phone can cause accidents while driving. \",\n",
       " \"i also think that you shouldn't use your phone while operating a vehicle because it can cause vehicle collisions, slow reaction time, and fatal injuries. \",\n",
       " 'therefore, driving can cause many accidents that can be fatal to the driver and passengers if there is any and cell phones should only be used when not operating a vehicle. ',\n",
       " \" the first reason why the use of cell phones shouldn't be allowed while operating a vehicle because there are high chances of vehicle collisions happening. \",\n",
       " ' most vehicle collisions happen when the driver is texting or under the influence of alcohol. ',\n",
       " 'when people who drives while texting spend more time looking at their phone than the road causing poor car following ability and lateral lane control. ',\n",
       " 'while under the influence of alcohol it can cause you to lose concentration and it can also hinder your ability to make rational decisions. ',\n",
       " 'as stated before, these are some examples of what can cause vehicle collisions. ',\n",
       " \"the second reason why you shouldn't operate a cell phone while driving because of slow reaction time. \",\n",
       " 'reaction time is the measure of how quickly an organism can respond to a particular stimulus. ',\n",
       " \"when your spending time at your phone and finally look up to see you're about to get into an accident it would already be too late. \",\n",
       " 'reaction times with no activity were between one and two seconds. ',\n",
       " 'reaction times while using a cellphone were at least three to four seconds. ',\n",
       " 'on top of that, drivers were more likely to miss the flashing light altogether when using a cellphone. ',\n",
       " 'cellphones effects the nervous system when a person is driving. ',\n",
       " \"the last reason you shouldn't drive while using a cellphone because it can cause fatal injuries that might have long term or short term affects. \",\n",
       " 'the affects can be physical, emotional, or psychological. ',\n",
       " 'one of the most common physical effect is whiplash. ',\n",
       " 'whiplash is caused by a sudden movement of the neck. ',\n",
       " 'whiplash is usually caused by rear end automobile collisions. ',\n",
       " 'one emotional effect can be anxiety which can cause difficulties in certain situations involving driving. ',\n",
       " 'the last effect is psychological which can cause ptsd. ',\n",
       " 'most car accidents are the results of ptsd but can also be caused by any traumatic experience. ',\n",
       " \"ptsd can affect a person's ability to function normally. \",\n",
       " 'people who goes through this will sometimes show a wide range of symptoms including anger, fear, shock, nervousness and feeling of mistrust or guilt. ',\n",
       " \"in conclusion, people shouldn't use cellphones while operating a vehicle. \",\n",
       " 'if they do it can cause life changing accidents and other serious problems in life. ',\n",
       " 'also, it can hurt some people financially causing them to pay for these uneventful occurrences. ',\n",
       " 'some things people can do to prevent is to turn their phone off or put it on do not disturb mode to prevent any accidents. ',\n",
       " 'they can also deal with that they have to do on the phone before starting the car and driving. ',\n",
       " \"one more solution is that they can have the passenger relay a message for you using your phone, so you won't be distracted or tempted to pick up the phone. \"]"
      ]
     },
     "execution_count": 297,
     "metadata": {},
     "output_type": "execute_result"
    }
   ],
   "source": [
    "pd.DataFrame(split_data_label(df_o)).loc[3,\"discourse_text\"]"
   ]
  },
  {
   "cell_type": "code",
   "execution_count": 301,
   "metadata": {},
   "outputs": [
    {
     "name": "stderr",
     "output_type": "stream",
     "text": [
      "100%|██████████| 15575/15575 [00:19<00:00, 819.51it/s]\n"
     ]
    }
   ],
   "source": [
    "df_o = pd.DataFrame(split_data_label(df_o))"
   ]
  },
  {
   "cell_type": "code",
   "execution_count": 326,
   "metadata": {},
   "outputs": [
    {
     "name": "stderr",
     "output_type": "stream",
     "text": [
      "100%|██████████| 15575/15575 [00:01<00:00, 7875.72it/s]\n"
     ]
    }
   ],
   "source": [
    "df_o[\"discourse_text\"]=df_o[\"discourse_text\"].progress_map(lambda x: [re.sub(\"\\s+\",\" \",i) for i in x])"
   ]
  },
  {
   "cell_type": "code",
   "execution_count": 329,
   "metadata": {},
   "outputs": [
    {
     "name": "stderr",
     "output_type": "stream",
     "text": [
      "100%|██████████| 15575/15575 [00:00<00:00, 16476.18it/s]\n"
     ]
    }
   ],
   "source": [
    "df_o[\"discourse_type\"]=df_o[\"discourse_type\"].progress_map(lambda x: [list(set(i)) for i in x])"
   ]
  },
  {
   "cell_type": "code",
   "execution_count": 330,
   "metadata": {},
   "outputs": [
    {
     "data": {
      "text/html": [
       "<div>\n",
       "<style scoped>\n",
       "    .dataframe tbody tr th:only-of-type {\n",
       "        vertical-align: middle;\n",
       "    }\n",
       "\n",
       "    .dataframe tbody tr th {\n",
       "        vertical-align: top;\n",
       "    }\n",
       "\n",
       "    .dataframe thead th {\n",
       "        text-align: right;\n",
       "    }\n",
       "</style>\n",
       "<table border=\"1\" class=\"dataframe\">\n",
       "  <thead>\n",
       "    <tr style=\"text-align: right;\">\n",
       "      <th></th>\n",
       "      <th>id</th>\n",
       "      <th>discourse_text</th>\n",
       "      <th>discourse_type</th>\n",
       "    </tr>\n",
       "  </thead>\n",
       "  <tbody>\n",
       "    <tr>\n",
       "      <th>0</th>\n",
       "      <td>423A1CA112E2</td>\n",
       "      <td>[modern humans today are always on their phone...</td>\n",
       "      <td>[[Lead], [Lead], [Lead], [Lead], [Position], [...</td>\n",
       "    </tr>\n",
       "    <tr>\n",
       "      <th>1</th>\n",
       "      <td>A8445CABFECE</td>\n",
       "      <td>[drivers should not be able to use phones whil...</td>\n",
       "      <td>[[Position], [Claim], [Evidence], [Evidence], ...</td>\n",
       "    </tr>\n",
       "    <tr>\n",
       "      <th>2</th>\n",
       "      <td>6B4F7A0165B9</td>\n",
       "      <td>[the ability to stay connected to people we kn...</td>\n",
       "      <td>[[Lead], [Lead], [Lead], [Position], [Claim], ...</td>\n",
       "    </tr>\n",
       "    <tr>\n",
       "      <th>3</th>\n",
       "      <td>E05C7F5C1156</td>\n",
       "      <td>[people are debating whether if drivers should...</td>\n",
       "      <td>[[Lead], [Lead], [Lead], [Claim, Position], [N...</td>\n",
       "    </tr>\n",
       "    <tr>\n",
       "      <th>4</th>\n",
       "      <td>50B3435E475B</td>\n",
       "      <td>[over half of drivers in today's society have ...</td>\n",
       "      <td>[[Lead], [Lead], [Lead], [Lead], [Position], [...</td>\n",
       "    </tr>\n",
       "    <tr>\n",
       "      <th>...</th>\n",
       "      <td>...</td>\n",
       "      <td>...</td>\n",
       "      <td>...</td>\n",
       "    </tr>\n",
       "    <tr>\n",
       "      <th>15570</th>\n",
       "      <td>8F4B595CF9E7</td>\n",
       "      <td>[do you ever want more opinions and options wh...</td>\n",
       "      <td>[[Lead], [Lead], [Lead], [Claim, Nothing, Posi...</td>\n",
       "    </tr>\n",
       "    <tr>\n",
       "      <th>15571</th>\n",
       "      <td>6B5809C83978</td>\n",
       "      <td>[has anyone ever gave you advice? , was the ad...</td>\n",
       "      <td>[[Lead], [Lead], [Position], [Claim, Nothing],...</td>\n",
       "    </tr>\n",
       "    <tr>\n",
       "      <th>15572</th>\n",
       "      <td>408A7D3D2EEC</td>\n",
       "      <td>[imagine seeking advice from multiple people a...</td>\n",
       "      <td>[[Lead], [Lead], [Lead], [Claim, Nothing, Posi...</td>\n",
       "    </tr>\n",
       "    <tr>\n",
       "      <th>15573</th>\n",
       "      <td>AFEC37C2D43F</td>\n",
       "      <td>[there has been at least one point in everyone...</td>\n",
       "      <td>[[Lead], [Lead], [Lead], [Position], [Position...</td>\n",
       "    </tr>\n",
       "    <tr>\n",
       "      <th>15574</th>\n",
       "      <td>4C471936CD75</td>\n",
       "      <td>[in ancient times, and also still today in som...</td>\n",
       "      <td>[[Lead], [Lead], [Lead], [Claim, Nothing], [No...</td>\n",
       "    </tr>\n",
       "  </tbody>\n",
       "</table>\n",
       "<p>15575 rows × 3 columns</p>\n",
       "</div>"
      ],
      "text/plain": [
       "                 id                                     discourse_text  \\\n",
       "0      423A1CA112E2  [modern humans today are always on their phone...   \n",
       "1      A8445CABFECE  [drivers should not be able to use phones whil...   \n",
       "2      6B4F7A0165B9  [the ability to stay connected to people we kn...   \n",
       "3      E05C7F5C1156  [people are debating whether if drivers should...   \n",
       "4      50B3435E475B  [over half of drivers in today's society have ...   \n",
       "...             ...                                                ...   \n",
       "15570  8F4B595CF9E7  [do you ever want more opinions and options wh...   \n",
       "15571  6B5809C83978  [has anyone ever gave you advice? , was the ad...   \n",
       "15572  408A7D3D2EEC  [imagine seeking advice from multiple people a...   \n",
       "15573  AFEC37C2D43F  [there has been at least one point in everyone...   \n",
       "15574  4C471936CD75  [in ancient times, and also still today in som...   \n",
       "\n",
       "                                          discourse_type  \n",
       "0      [[Lead], [Lead], [Lead], [Lead], [Position], [...  \n",
       "1      [[Position], [Claim], [Evidence], [Evidence], ...  \n",
       "2      [[Lead], [Lead], [Lead], [Position], [Claim], ...  \n",
       "3      [[Lead], [Lead], [Lead], [Claim, Position], [N...  \n",
       "4      [[Lead], [Lead], [Lead], [Lead], [Position], [...  \n",
       "...                                                  ...  \n",
       "15570  [[Lead], [Lead], [Lead], [Claim, Nothing, Posi...  \n",
       "15571  [[Lead], [Lead], [Position], [Claim, Nothing],...  \n",
       "15572  [[Lead], [Lead], [Lead], [Claim, Nothing, Posi...  \n",
       "15573  [[Lead], [Lead], [Lead], [Position], [Position...  \n",
       "15574  [[Lead], [Lead], [Lead], [Claim, Nothing], [No...  \n",
       "\n",
       "[15575 rows x 3 columns]"
      ]
     },
     "execution_count": 330,
     "metadata": {},
     "output_type": "execute_result"
    }
   ],
   "source": [
    "df_o"
   ]
  },
  {
   "cell_type": "code",
   "execution_count": 317,
   "metadata": {},
   "outputs": [],
   "source": [
    "import numpy as np\n",
    "num_text = np.array([len(i) for i in df_o[\"discourse_type\"]])"
   ]
  },
  {
   "cell_type": "code",
   "execution_count": 321,
   "metadata": {},
   "outputs": [
    {
     "name": "stdout",
     "output_type": "stream",
     "text": [
      "8BBDEC4FD82E\n"
     ]
    }
   ],
   "source": [
    "for j,i in enumerate(num_text):\n",
    "    if i==1:\n",
    "        print(df.loc[j,\"id\"])\n",
    "        break"
   ]
  },
  {
   "cell_type": "code",
   "execution_count": 331,
   "metadata": {},
   "outputs": [
    {
     "data": {
      "text/plain": [
       "'Has anyone ever gave you advice? Was the advice helpful to the situation? Seeking multiple opinions can help someone make a better choice. Getting different opinions can help someone make a better decision because they will get multiple answers, different types of advice, and they will have more information on the situation then they started with.\\n\\nBy seeking multiple opinions people will get different answers and possibly make a better choice. For example, I was having trouble deciding what I should do my science project on, so I went and asked a few of my teachers. After I asked my teachers I was able to decide because of the advice they gave me. Ultimately, obtaining different problems on a problem can help someone make the best choice.\\n\\nNot everyone has the same outlook on everything, therefore, asking multiple people for their opinions will give people different types of advice. For instance, I was going to wear an outfit, but I could not decide if it looked good or not so I asked my mom, dad, and brother what they thought. After receiving their opinions I decided to not wear the outfit because everyone but my dad did not like the outfit. All in all, the more people you ask for advice the more diverse answers you will get.\\n\\nBy gathering different advice people will have more knowledge and information on the situation, which will lead to having a higher chance of making the right choice. For example, My family could not decide where to go for vacation, so I went and asked my uncle, who used to traveled the world for photography, for his opinion. After talking for a long time he gave me a great deal of information on where and where to not go for vacation. Finally, after seeking multiple opinions, people will have enough advice and information to make the right choice.\\n\\nBy gathering different opinions it will help people make a better decision. Asking for advice can give people multiple answers, different types of advice, and more information on the subject. So next time you have a problem, and no solution, seek others advice and you will most likely make the better choice.'"
      ]
     },
     "execution_count": 331,
     "metadata": {},
     "output_type": "execute_result"
    }
   ],
   "source": [
    "f = open(\"train/6B5809C83978.txt\", 'r')\n",
    "f.read()"
   ]
  },
  {
   "cell_type": "code",
   "execution_count": 332,
   "metadata": {},
   "outputs": [],
   "source": [
    "df_o.to_csv(\"structure.csv\")"
   ]
  },
  {
   "cell_type": "code",
   "execution_count": 333,
   "metadata": {},
   "outputs": [
    {
     "data": {
      "text/plain": [
       "[<matplotlib.lines.Line2D at 0x7fdc2e211d30>]"
      ]
     },
     "execution_count": 333,
     "metadata": {},
     "output_type": "execute_result"
    },
    {
     "data": {
      "image/png": "[encoded data removed]",
      "text/plain": [
       "<Figure size 432x288 with 1 Axes>"
      ]
     },
     "metadata": {
      "needs_background": "light"
     },
     "output_type": "display_data"
    }
   ],
   "source": [
    "from matplotlib import pyplot\n",
    "pyplot.plot([np.sum(np.where(num_text<=i,True,False)) for i in range(94)],range(94))"
   ]
  },
  {
   "cell_type": "code",
   "execution_count": 349,
   "metadata": {},
   "outputs": [
    {
     "name": "stderr",
     "output_type": "stream",
     "text": [
      "100%|██████████| 15575/15575 [00:00<00:00, 51126.91it/s]\n"
     ]
    },
    {
     "data": {
      "text/plain": [
       "324290"
      ]
     },
     "execution_count": 349,
     "metadata": {},
     "output_type": "execute_result"
    }
   ],
   "source": [
    "len(np.sort(np.array([len(j.split(\" \")) for i in tqdm(df_o[\"discourse_text\"]) for j in i])))"
   ]
  },
  {
   "cell_type": "code",
   "execution_count": 358,
   "metadata": {},
   "outputs": [
    {
     "name": "stderr",
     "output_type": "stream",
     "text": [
      "100%|██████████| 15575/15575 [00:00<00:00, 48944.29it/s]\n"
     ]
    },
    {
     "data": {
      "text/plain": [
       "array([  1,   1,   1, ..., 405, 445, 716])"
      ]
     },
     "execution_count": 358,
     "metadata": {},
     "output_type": "execute_result"
    }
   ],
   "source": [
    "np.sort(np.array([len(j.split(\" \")) for i in tqdm(df_o[\"discourse_text\"]) for j in i]))"
   ]
  },
  {
   "cell_type": "code",
   "execution_count": null,
   "metadata": {},
   "outputs": [],
   "source": []
  }
 ],
 "metadata": {
  "kernelspec": {
   "display_name": "Python 3.9.12 ('env1')",
   "language": "python",
   "name": "python3"
  },
  "language_info": {
   "codemirror_mode": {
    "name": "ipython",
    "version": 3
   },
   "file_extension": ".py",
   "mimetype": "text/x-python",
   "name": "python",
   "nbconvert_exporter": "python",
   "pygments_lexer": "ipython3",
   "version": "3.9.12"
  },
  "orig_nbformat": 4,
  "vscode": {
   "interpreter": {
    "hash": "954b108c6126c70b15afd67f62af0737415665c33db93ebe49a6b91bcab3eddc"
   }
  }
 },
 "nbformat": 4,
 "nbformat_minor": 2
}
